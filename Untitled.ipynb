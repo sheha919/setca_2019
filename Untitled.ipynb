{
 "cells": [
  {
   "cell_type": "code",
   "execution_count": 1,
   "metadata": {},
   "outputs": [],
   "source": [
    "import os\n",
    "import numpy"
   ]
  },
  {
   "cell_type": "code",
   "execution_count": 4,
   "metadata": {},
   "outputs": [],
   "source": [
    "water_file = os.path.join('data','water.xyz')"
   ]
  },
  {
   "cell_type": "code",
   "execution_count": 5,
   "metadata": {},
   "outputs": [],
   "source": [
    "xyz_file= open(water_file,'r')"
   ]
  },
  {
   "cell_type": "code",
   "execution_count": 6,
   "metadata": {},
   "outputs": [],
   "source": [
    "data = xyz_file.readlines()"
   ]
  },
  {
   "cell_type": "code",
   "execution_count": 7,
   "metadata": {},
   "outputs": [
    {
     "name": "stdout",
     "output_type": "stream",
     "text": [
      "['3\\n', 'Water xyz file\\n', 'O        0.000000     -0.007156      0.965491\\n', 'H1      -0.000000      0.001486     -0.003471\\n', 'H2       0.000000      0.931026      1.207929\\n']\n"
     ]
    }
   ],
   "source": [
    "print(data)"
   ]
  },
  {
   "cell_type": "code",
   "execution_count": 8,
   "metadata": {},
   "outputs": [
    {
     "name": "stdout",
     "output_type": "stream",
     "text": [
      "3\n"
     ]
    }
   ],
   "source": [
    "num_atom = int(data[0])\n",
    "print(num_atom)"
   ]
  },
  {
   "cell_type": "code",
   "execution_count": 10,
   "metadata": {},
   "outputs": [],
   "source": [
    "coord_data = data[2:]"
   ]
  },
  {
   "cell_type": "code",
   "execution_count": 26,
   "metadata": {},
   "outputs": [],
   "source": [
    "symbols=[]\n",
    "coordinates= []\n",
    "for atom in coord_data:\n",
    "    atom_data =atom.split()\n",
    "    symbol = atom_data[0]\n",
    "    symbols.append(symbol)\n",
    "    x,y,z = atom_data[1], atom_data[2], atom_data[3]\n",
    "    coordinates.append([float(x), float(y),float(z)])\n",
    "\n",
    "\n",
    "    "
   ]
  },
  {
   "cell_type": "code",
   "execution_count": 27,
   "metadata": {},
   "outputs": [
    {
     "name": "stdout",
     "output_type": "stream",
     "text": [
      "['O', 'H1', 'H2']\n"
     ]
    }
   ],
   "source": [
    "print(symbols)"
   ]
  },
  {
   "cell_type": "code",
   "execution_count": 28,
   "metadata": {},
   "outputs": [
    {
     "name": "stdout",
     "output_type": "stream",
     "text": [
      "[[0.0, -0.007156, 0.965491], [-0.0, 0.001486, -0.003471], [0.0, 0.931026, 1.207929]]\n"
     ]
    }
   ],
   "source": [
    "print(coordinates)"
   ]
  },
  {
   "cell_type": "code",
   "execution_count": 29,
   "metadata": {},
   "outputs": [
    {
     "name": "stdout",
     "output_type": "stream",
     "text": [
      "O to O: 0.000\n",
      "O to H1: 0.969\n",
      "O to H2: 0.969\n",
      "H1 to O: 0.969\n",
      "H1 to H1: 0.000\n",
      "H1 to H2: 1.527\n",
      "H2 to O: 0.969\n",
      "H2 to H1: 1.527\n",
      "H2 to H2: 0.000\n"
     ]
    }
   ],
   "source": [
    "for numA, atomA in enumerate (coordinates):\n",
    "    for numB, atomB in enumerate (coordinates):\n",
    "        x_distance=atomA[0]-atomB[0]\n",
    "        y_distance=atomA[1]-atomB[1]\n",
    "        z_distance=atomA[2]-atomB[2]\n",
    "        distance=numpy.sqrt(x_distance**2 + y_distance**2 + z_distance**2)\n",
    "        print(F'{symbols[numA]} to {symbols[numB]}: {distance:.3f}')\n",
    "    "
   ]
  },
  {
   "cell_type": "code",
   "execution_count": null,
   "metadata": {},
   "outputs": [],
   "source": []
  },
  {
   "cell_type": "code",
   "execution_count": null,
   "metadata": {},
   "outputs": [],
   "source": []
  }
 ],
 "metadata": {
  "kernelspec": {
   "display_name": "Python 3",
   "language": "python",
   "name": "python3"
  },
  "language_info": {
   "codemirror_mode": {
    "name": "ipython",
    "version": 3
   },
   "file_extension": ".py",
   "mimetype": "text/x-python",
   "name": "python",
   "nbconvert_exporter": "python",
   "pygments_lexer": "ipython3",
   "version": "3.7.3"
  }
 },
 "nbformat": 4,
 "nbformat_minor": 2
}
