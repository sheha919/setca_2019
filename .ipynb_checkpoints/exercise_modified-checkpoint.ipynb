{
 "cells": [
  {
   "cell_type": "code",
   "execution_count": 1,
   "metadata": {},
   "outputs": [],
   "source": [
    "import os\n",
    "import numpy"
   ]
  },
  {
   "cell_type": "code",
   "execution_count": 2,
   "metadata": {},
   "outputs": [],
   "source": [
    "water_file = os.path.join('data','water.xyz')"
   ]
  },
  {
   "cell_type": "code",
   "execution_count": 3,
   "metadata": {},
   "outputs": [],
   "source": [
    "xyz_file= open(water_file,'r')"
   ]
  },
  {
   "cell_type": "code",
   "execution_count": 4,
   "metadata": {},
   "outputs": [],
   "source": [
    "data = xyz_file.readlines()"
   ]
  },
  {
   "cell_type": "code",
   "execution_count": 5,
   "metadata": {},
   "outputs": [
    {
     "name": "stdout",
     "output_type": "stream",
     "text": [
      "['3\\n', 'Water xyz file\\n', 'O        0.000000     -0.007156      0.965491\\n', 'H1      -0.000000      0.001486     -0.003471\\n', 'H2       0.000000      0.931026      1.207929\\n']\n"
     ]
    }
   ],
   "source": [
    "print(data)"
   ]
  },
  {
   "cell_type": "code",
   "execution_count": 6,
   "metadata": {},
   "outputs": [
    {
     "name": "stdout",
     "output_type": "stream",
     "text": [
      "3\n"
     ]
    }
   ],
   "source": [
    "num_atom = int(data[0])\n",
    "print(num_atom)"
   ]
  },
  {
   "cell_type": "code",
   "execution_count": 7,
   "metadata": {},
   "outputs": [
    {
     "name": "stdout",
     "output_type": "stream",
     "text": [
      "['O        0.000000     -0.007156      0.965491\\n', 'H1      -0.000000      0.001486     -0.003471\\n', 'H2       0.000000      0.931026      1.207929\\n']\n"
     ]
    }
   ],
   "source": [
    "coord_data = data[2:]\n",
    "print(coord_data)"
   ]
  },
  {
   "cell_type": "code",
   "execution_count": 8,
   "metadata": {},
   "outputs": [],
   "source": [
    "symbols=[]\n",
    "coordinates= []\n",
    "for atom in coord_data:\n",
    "    atom_data =atom.split()\n",
    "    symbol = atom_data[0]\n",
    "    symbols.append(symbol)\n",
    "    x,y,z = atom_data[1], atom_data[2], atom_data[3]\n",
    "    coordinates.append([float(x), float(y),float(z)])\n",
    "\n",
    "\n",
    "    "
   ]
  },
  {
   "cell_type": "code",
   "execution_count": 9,
   "metadata": {},
   "outputs": [
    {
     "name": "stdout",
     "output_type": "stream",
     "text": [
      "['O', 'H1', 'H2']\n"
     ]
    }
   ],
   "source": [
    "print(symbols)"
   ]
  },
  {
   "cell_type": "code",
   "execution_count": 10,
   "metadata": {
    "scrolled": true
   },
   "outputs": [
    {
     "name": "stdout",
     "output_type": "stream",
     "text": [
      "[[0.0, -0.007156, 0.965491], [-0.0, 0.001486, -0.003471], [0.0, 0.931026, 1.207929]]\n"
     ]
    }
   ],
   "source": [
    "print(coordinates)"
   ]
  },
  {
   "cell_type": "code",
   "execution_count": 11,
   "metadata": {},
   "outputs": [],
   "source": [
    "def calculate_distance(atom1,atom2):\n",
    "    x_distance=atom1[0]-atom2[0]\n",
    "    y_distance=atom1[1]-atom2[1]\n",
    "    z_distance=atom1[2]-atom2[2]\n",
    "    distance=numpy.sqrt(x_distance**2 + y_distance**2 + z_distance**2)\n",
    "    return distance"
   ]
  },
  {
   "cell_type": "code",
   "execution_count": 16,
   "metadata": {},
   "outputs": [],
   "source": [
    "def bond_check(bond_distance,minimum_value,maximum_value):\n",
    "    if bond_distance>minimum_value and bond_distance<maximum_value:\n",
    "        return True\n",
    "    else:\n",
    "        return False"
   ]
  },
  {
   "cell_type": "code",
   "execution_count": 17,
   "metadata": {},
   "outputs": [
    {
     "name": "stdout",
     "output_type": "stream",
     "text": [
      "H2 to H1: 1.527\n"
     ]
    }
   ],
   "source": [
    "for numA, atomA in enumerate (coordinates):\n",
    "    for numB, atomB in enumerate (coordinates):\n",
    "        if numB< numA:\n",
    "            distance_AB = calculate_distance(atomA,atomB)\n",
    "            if bond_check(distance_AB,1.0,1.6) is True:\n",
    "                print(F'{symbols[numA]} to {symbols[numB]}: {distance_AB:.3f}')\n",
    "    "
   ]
  },
  {
   "cell_type": "code",
   "execution_count": 18,
   "metadata": {},
   "outputs": [],
   "source": [
    "#def function_name(parameters):\n",
    "    ##lines of code\n",
    "    ##lines of code\n",
    "    ##lines of code\n",
    "    #return value_to_return\n",
    "        "
   ]
  },
  {
   "cell_type": "code",
   "execution_count": null,
   "metadata": {},
   "outputs": [],
   "source": [
    "#how to move codes to command line executable"
   ]
  }
 ],
 "metadata": {
  "kernelspec": {
   "display_name": "Python 3",
   "language": "python",
   "name": "python3"
  },
  "language_info": {
   "codemirror_mode": {
    "name": "ipython",
    "version": 3
   },
   "file_extension": ".py",
   "mimetype": "text/x-python",
   "name": "python",
   "nbconvert_exporter": "python",
   "pygments_lexer": "ipython3",
   "version": "3.7.3"
  }
 },
 "nbformat": 4,
 "nbformat_minor": 2
}
